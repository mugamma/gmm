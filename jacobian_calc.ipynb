{
 "cells": [
  {
   "cell_type": "code",
   "execution_count": 1,
   "metadata": {},
   "outputs": [],
   "source": [
    "from sympy import *\n",
    "from sympy.matrices import Matrix, det, zeros"
   ]
  },
  {
   "cell_type": "code",
   "execution_count": 2,
   "metadata": {},
   "outputs": [],
   "source": [
    "mu, sigma, w = symbols('μ_* σ_* w_*')\n",
    "mu1, sigma1, w1 = symbols('μ_1 σ_1 w_1')\n",
    "mu2, sigma2, w2 = symbols('μ_2 σ_2 w_2')\n",
    "u1, u2, u3 = symbols('u_1 u_2 u_3')"
   ]
  },
  {
   "cell_type": "code",
   "execution_count": 3,
   "metadata": {},
   "outputs": [],
   "source": [
    "w1_exp = w * u1\n",
    "w2_exp = w * (1 - u1)\n",
    "mu1_exp = mu - u2 * sigma * sqrt(w2/w1)\n",
    "mu2_exp = mu + u2 * sigma * sqrt(w1/w2)\n",
    "sigma1_eq = Eq(sigma1**2, u3 * (1 - u2**2) * sigma**2 * w/w1)\n",
    "sigma1_exp = solve(sigma1_eq, sigma1**2)[0]\n",
    "sigma2_eq = Eq(sigma2**2, (1 - u3) * (1 - u2**2) * sigma**2 * w/w2)\n",
    "sigma2_exp = solve(sigma2_eq, sigma2**2)[0]"
   ]
  },
  {
   "cell_type": "code",
   "execution_count": 4,
   "metadata": {},
   "outputs": [],
   "source": [
    "# input  indices: 0:mu 1:sigma 2:w 3:u1 4:u2 5:u3\n",
    "# output indices: 0:w1 1:mu1 2:sigma1_sq 3:w2 4:mu2 5:sigma2_sq\n",
    "J = zeros(6, 6)"
   ]
  },
  {
   "cell_type": "code",
   "execution_count": 5,
   "metadata": {},
   "outputs": [],
   "source": [
    "J[0, 2] = w1_exp.diff(w)\n",
    "J[0, 3] = w1_exp.diff(u1)"
   ]
  },
  {
   "cell_type": "code",
   "execution_count": 6,
   "metadata": {},
   "outputs": [],
   "source": [
    "J[1, 0] = mu1_exp.diff(mu)\n",
    "J[1, 1] = (mu1_exp.diff(sigma) / 2/sigma).simplify()\n",
    "J[1, 3] = mu1_exp.subs([(w1, w1_exp), (w2, w2_exp)]).diff(u1).simplify()\n",
    "J[1, 4] = mu1_exp.diff(u2)"
   ]
  },
  {
   "cell_type": "code",
   "execution_count": 7,
   "metadata": {},
   "outputs": [],
   "source": [
    "J[2, 1] = (sigma1_exp.diff(sigma) / 2/sigma).simplify()\n",
    "J[2, 2] = sigma1_exp.subs([(w1, w1_exp), (w2, w2_exp)]).diff(w).simplify()\n",
    "J[2, 3] = sigma1_exp.subs([(w1, w1_exp), (w2, w2_exp)]).diff(u1).simplify()\n",
    "J[2, 4] = sigma1_exp.diff(u2).simplify()\n",
    "J[2, 5] = sigma1_exp.diff(u3).simplify()"
   ]
  },
  {
   "cell_type": "code",
   "execution_count": 8,
   "metadata": {},
   "outputs": [
    {
     "data": {
      "text/latex": [
       "$\\displaystyle \\left[\\begin{matrix}0 & 0 & u_{1} & w_{*} & 0 & 0\\\\1 & - \\frac{u_{2} \\sqrt{\\frac{w_{2}}{w_{1}}}}{2 σ_{*}} & 0 & - \\frac{u_{2} σ_{*} \\sqrt{- \\frac{u_{1} - 1}{u_{1}}}}{2 u_{1} \\left(u_{1} - 1\\right)} & - σ_{*} \\sqrt{\\frac{w_{2}}{w_{1}}} & 0\\\\0 & - \\frac{u_{3} w_{*} \\left(u_{2}^{2} - 1\\right)}{w_{1}} & 0 & \\frac{u_{3} σ_{*}^{2} \\left(u_{2}^{2} - 1\\right)}{u_{1}^{2}} & - \\frac{2 u_{2} u_{3} w_{*} σ_{*}^{2}}{w_{1}} & - \\frac{w_{*} σ_{*}^{2} \\left(u_{2}^{2} - 1\\right)}{w_{1}}\\\\0 & 0 & 1 - u_{1} & - w_{*} & 0 & 0\\\\1 & \\frac{u_{2} \\sqrt{\\frac{w_{1}}{w_{2}}}}{2 σ_{*}} & 0 & - \\frac{u_{2} σ_{*} \\sqrt{- \\frac{u_{1}}{u_{1} - 1}}}{2 u_{1} \\left(u_{1} - 1\\right)} & σ_{*} \\sqrt{\\frac{w_{1}}{w_{2}}} & 0\\\\0 & \\frac{w_{*} \\left(u_{2}^{2} u_{3} - u_{2}^{2} - u_{3} + 1\\right)}{w_{2}} & 0 & \\frac{σ_{*}^{2} \\left(u_{2}^{2} u_{3} - u_{2}^{2} - u_{3} + 1\\right)}{\\left(u_{1} - 1\\right)^{2}} & \\frac{2 u_{2} w_{*} σ_{*}^{2} \\left(u_{3} - 1\\right)}{w_{2}} & \\frac{w_{*} σ_{*}^{2} \\left(u_{2}^{2} - 1\\right)}{w_{2}}\\end{matrix}\\right]$"
      ],
      "text/plain": [
       "Matrix([\n",
       "[0,                                       0,     u_1,                                                 w_*,                              0,                            0],\n",
       "[1,              -u_2*sqrt(w_2/w_1)/(2*σ_*),       0,     -u_2*σ_**sqrt(-(u_1 - 1)/u_1)/(2*u_1*(u_1 - 1)),             -σ_**sqrt(w_2/w_1),                            0],\n",
       "[0,               -u_3*w_**(u_2**2 - 1)/w_1,       0,                      u_3*σ_***2*(u_2**2 - 1)/u_1**2,      -2*u_2*u_3*w_**σ_***2/w_1, -w_**σ_***2*(u_2**2 - 1)/w_1],\n",
       "[0,                                       0, 1 - u_1,                                                -w_*,                              0,                            0],\n",
       "[1,               u_2*sqrt(w_1/w_2)/(2*σ_*),       0,     -u_2*σ_**sqrt(-u_1/(u_1 - 1))/(2*u_1*(u_1 - 1)),              σ_**sqrt(w_1/w_2),                            0],\n",
       "[0, w_**(u_2**2*u_3 - u_2**2 - u_3 + 1)/w_2,       0, σ_***2*(u_2**2*u_3 - u_2**2 - u_3 + 1)/(u_1 - 1)**2, 2*u_2*w_**σ_***2*(u_3 - 1)/w_2,  w_**σ_***2*(u_2**2 - 1)/w_2]])"
      ]
     },
     "execution_count": 8,
     "metadata": {},
     "output_type": "execute_result"
    }
   ],
   "source": [
    "J[3, 2] = w2_exp.diff(w)\n",
    "J[3, 3] = w2_exp.diff(u1)\n",
    "J[4, 0] = mu2_exp.diff(mu)\n",
    "J[4, 1] = (mu2_exp.diff(sigma) / 2/sigma).simplify()\n",
    "J[4, 3] = mu2_exp.subs([(w1, w1_exp), (w2, w2_exp)]).diff(u1).simplify()\n",
    "J[4, 4] = mu2_exp.diff(u2)\n",
    "J[5, 1] = (sigma2_exp.diff(sigma) / 2/sigma).simplify()\n",
    "J[5, 2] = sigma2_exp.subs([(w1, w1_exp), (w2, w2_exp)]).diff(w).simplify()\n",
    "J[5, 3] = sigma2_exp.subs([(w1, w1_exp), (w2, w2_exp)]).diff(u1).simplify()\n",
    "J[5, 4] = sigma2_exp.diff(u2).simplify()\n",
    "J[5, 5] = sigma2_exp.diff(u3).simplify()\n",
    "J"
   ]
  },
  {
   "cell_type": "code",
   "execution_count": 9,
   "metadata": {},
   "outputs": [
    {
     "data": {
      "text/latex": [
       "$\\displaystyle \\frac{w_{*}^{3} σ_{*}^{3} \\left(- u_{2}^{2} \\sqrt{\\frac{w_{2}}{w_{1}}} - u_{2}^{2} \\sqrt{\\frac{w_{1}}{w_{2}}} + \\sqrt{\\frac{w_{2}}{w_{1}}} + \\sqrt{\\frac{w_{1}}{w_{2}}}\\right)}{w_{1} w_{2}}$"
      ],
      "text/plain": [
       "w_***3*σ_***3*(-u_2**2*sqrt(w_2/w_1) - u_2**2*sqrt(w_1/w_2) + sqrt(w_2/w_1) + sqrt(w_1/w_2))/(w_1*w_2)"
      ]
     },
     "execution_count": 9,
     "metadata": {},
     "output_type": "execute_result"
    }
   ],
   "source": [
    "det(J).simplify()"
   ]
  }
 ],
 "metadata": {
  "kernelspec": {
   "display_name": "Python 3",
   "language": "python",
   "name": "python3"
  },
  "language_info": {
   "codemirror_mode": {
    "name": "ipython",
    "version": 3
   },
   "file_extension": ".py",
   "mimetype": "text/x-python",
   "name": "python",
   "nbconvert_exporter": "python",
   "pygments_lexer": "ipython3",
   "version": "3.7.3"
  }
 },
 "nbformat": 4,
 "nbformat_minor": 2
}
